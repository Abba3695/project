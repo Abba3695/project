{
 "cells": [
  {
   "cell_type": "code",
   "execution_count": null,
   "id": "528190eb-b506-4d72-8ebf-91fbeb79786d",
   "metadata": {},
   "outputs": [],
   "source": [
    "1. Quiz Game\n",
    "Task: Create a quiz game made up of 5 questions. The user should be able to enter in answers and the final score calculated.\n",
    "Objective: To create a Python-based quiz game that allows users to answer 5 questions interactively and calculates their final score based on correct answers.\n",
    "Acceptance Criteria:\n",
    "•\tThe quiz contains exactly five questions.\n",
    "•\tQuestions and answers are stored in an easily modifiable structure (e.g., a list of dictionaries).\n",
    "•\tThe user can input their answers, and responses are case-insensitive.\n",
    "•\tCorrect answers increase the score, and incorrect answers display the correct answer.\n",
    "•\tThe final score is displayed at the end of the quiz."
   ]
  },
  {
   "cell_type": "code",
   "execution_count": null,
   "id": "7b5e2a93-106e-4700-9847-c6b818425fd8",
   "metadata": {},
   "outputs": [],
   "source": []
  },
  {
   "cell_type": "code",
   "execution_count": 1,
   "id": "ff7e7e03-4180-4193-9e56-b2ea95bd78e4",
   "metadata": {},
   "outputs": [
    {
     "name": "stdout",
     "output_type": "stream",
     "text": [
      "What is the capital of Nigeria?\n",
      "A: Lagos\n",
      "B: Abuja\n",
      "C: Lokoja\n",
      "D: Kano\n"
     ]
    },
    {
     "name": "stdin",
     "output_type": "stream",
     "text": [
      "Choose your answer (A/B/C/D):  b\n"
     ]
    },
    {
     "name": "stdout",
     "output_type": "stream",
     "text": [
      "Correct!\n",
      "\n",
      "Which Country is much population?\n",
      "A: Argentina\n",
      "B: China\n",
      "C: India\n",
      "D: America\n"
     ]
    },
    {
     "name": "stdin",
     "output_type": "stream",
     "text": [
      "Choose your answer (A/B/C/D):  B\n"
     ]
    },
    {
     "name": "stdout",
     "output_type": "stream",
     "text": [
      "Correct!\n",
      "\n",
      "Who won the UEFA Champion League in 2025?\n",
      "A: P.S.G\n",
      "B: Real Madrid\n",
      "C: Man United\n",
      "D: Barcelona\n"
     ]
    },
    {
     "name": "stdin",
     "output_type": "stream",
     "text": [
      "Choose your answer (A/B/C/D):  A\n"
     ]
    },
    {
     "name": "stdout",
     "output_type": "stream",
     "text": [
      "Correct!\n",
      "\n",
      "What is the Name of Nigerian president?\n",
      "A: Bola Ahmed Tinubu\n",
      "B: atiku Abubakar\n",
      "C: Rabiu musa\n",
      "D: Sule lamido\n"
     ]
    },
    {
     "name": "stdin",
     "output_type": "stream",
     "text": [
      "Choose your answer (A/B/C/D):  A\n"
     ]
    },
    {
     "name": "stdout",
     "output_type": "stream",
     "text": [
      "Correct!\n",
      "\n",
      "Which element is the lightest in the periodic table?\n",
      "A: Hydrogen\n",
      "B: Helium\n",
      "C: Lithium\n",
      "D: Boron\n"
     ]
    },
    {
     "name": "stdin",
     "output_type": "stream",
     "text": [
      "Choose your answer (A/B/C/D):  A\n"
     ]
    },
    {
     "name": "stdout",
     "output_type": "stream",
     "text": [
      "Correct!\n",
      "\n",
      "Quiz finished! Your final score is 5 out of 5.\n"
     ]
    }
   ],
   "source": [
    "# Quiz Game in Python\n",
    "\n",
    "# Define a dictionary with questions, options, and answers\n",
    "quiz_questions = {\n",
    "   \"what is the capital of nigeria?\":{\n",
    "        \"A\": \"Lagos\",\n",
    "        \"B\": \"Abuja\",\n",
    "        \"C\": \"Kano\",\n",
    "        \"D\": \"Kaduna\",\n",
    "        \"Answer\": \"B\"\n",
    "        \"which Country is much population?\": {\n",
    "        \"A\": \"Argentina\",\n",
    "        \"B\": \"China\",\n",
    "        \"C\": \"India\",\n",
    "        \"D\": \"America\",\n",
    "        \"Answer\": \"B\"\n",
    "    },\n",
    "    \"Who won the UEFA Champion League in 2025?\": {\n",
    "        \"A\": \"P.S.G\",\n",
    "        \"B\": \"Real Madrid\",\n",
    "        \"C\": \"Man United\",\n",
    "        \"D\": \"Barcelona\",\n",
    "        \"Answer\": \"A\"\n",
    "    },\n",
    "    \"What is the Name of Nigerian president?\": {\n",
    "        \"A\": \"Bola Ahmed Tinubu\",\n",
    "        \"B\": \"atiku Abubakar\",\n",
    "        \"C\": \"Rabiu musa\",\n",
    "        \"D\": \"Sule lamido\",\n",
    "        \"Answer\": \"A\"\n",
    "    },\n",
    "    \"Which element is the lightest in the periodic table?\": {\n",
    "        \"A\": \"Hydrogen\",\n",
    "        \"B\": \"Helium\",\n",
    "        \"C\": \"Lithium\",\n",
    "        \"D\": \"Boron\",\n",
    "        \"Answer\": \"A\"\n",
    "    }\n",
    "}\n",
    "\n",
    "def quiz_game():\n",
    "    score = 0\n",
    "    for question, options in quiz_questions.items():\n",
    "        print(question)\n",
    "        for option, value in options.items():\n",
    "            if option != \"Answer\":\n",
    "                print(f\"{option}: {value}\")\n",
    "        answer = input(\"Choose your answer (A/B/C/D): \")\n",
    "        if answer.upper() == options[\"Answer\"]:\n",
    "            print(\"Correct!\\n\")\n",
    "            score += 1\n",
    "        else:\n",
    "            print(f\"Incorrect. The correct answer is {options['Answer']}.\\n\")\n",
    "    print(f\"Quiz finished! Your final score is {score} out of {len(quiz_questions)}.\")\n",
    "\n",
    "if __name__ == \"__main__\":\n",
    "    quiz_game()\n"
   ]
  },
  {
   "cell_type": "code",
   "execution_count": null,
   "id": "8fd3b2f1-0a17-4fad-9454-30bbcdf71297",
   "metadata": {},
   "outputs": [],
   "source": [
    "2. Number Swapping\n",
    "Task: Swapping two numbers in Python.\n",
    "Objective: Create a Python program that swaps two numbers entered by the user and displays the values before and after swapping.\n",
    "Acceptance Criteria:\n",
    "•\tThe program accepts two numbers as input from the user.\n",
    "•\tThe numbers are displayed before and after swapping.\n",
    "•\tThe program uses Python’s tuple unpacking for swapping.\n",
    "•\tInvalid input (non-numeric) is handled gracefully with an error message.\n",
    "•\tThe program successfully swaps the values without requiring a temporary variable."
   ]
  },
  {
   "cell_type": "code",
   "execution_count": 2,
   "id": "c484f88c-6d1f-445a-a6a4-f0fafce36e71",
   "metadata": {},
   "outputs": [
    {
     "name": "stdin",
     "output_type": "stream",
     "text": [
      "Enter the first number:2.0  1.0\n",
      "Enter the second number:1.0  2\n"
     ]
    },
    {
     "name": "stdout",
     "output_type": "stream",
     "text": [
      "\n",
      "Before swapping:\n",
      "Number 1: 1.0\n",
      "Number 2: 2.0\n",
      "\n",
      "After swapping:\n",
      "Number 1: 2.0\n",
      "Number 2: 1.0\n"
     ]
    }
   ],
   "source": [
    "def swap_numbers():\n",
    "    # Get user input\n",
    "    num1 = float(input(\"Enter the first number:2.0 \"))\n",
    "    num2 = float(input(\"Enter the second number:1.0 \"))\n",
    "\n",
    "    # Display values before swapping\n",
    "    print(f\"\\nBefore swapping:\")\n",
    "    print(f\"Number 1: {num1}\")\n",
    "    print(f\"Number 2: {num2}\")\n",
    "\n",
    "    # Swap numbers\n",
    "    num1, num2 = num2, num1\n",
    "\n",
    "    # Display values after swapping\n",
    "    print(f\"\\nAfter swapping:\")\n",
    "    print(f\"Number 1: {num1}\")\n",
    "    print(f\"Number 2: {num2}\")\n",
    "\n",
    "if __name__ == \"__main__\":\n",
    "    swap_numbers()\n"
   ]
  },
  {
   "cell_type": "code",
   "execution_count": 5,
   "id": "f13ddf71-98f7-4534-b259-8b5a35b758f5",
   "metadata": {},
   "outputs": [
    {
     "name": "stdin",
     "output_type": "stream",
     "text": [
      "Enter a number:  1\n"
     ]
    },
    {
     "name": "stdout",
     "output_type": "stream",
     "text": [
      "\n",
      "Results for 1:\n",
      "Prime: No\n",
      "Armstrong: Yes\n",
      "Palindrome: Yes\n"
     ]
    }
   ],
   "source": [
    "def is_prime(n):\n",
    "    \"\"\"Check if a number is prime\"\"\"\n",
    "    if n <= 1:\n",
    "        return False\n",
    "    for i in range(2, int(n ** 0.5) + 1):\n",
    "        if n % i == 0:\n",
    "            return False\n",
    "    return True\n",
    "\n",
    "def is_armstrong(n):\n",
    "    \"\"\"Check if a number is an Armstrong number\"\"\"\n",
    "    return n == sum(int(digit) ** len(str(n)) for digit in str(n))\n",
    "\n",
    "def is_palindrome(n):\n",
    "    \"\"\"Check if a number is a palindrome\"\"\"\n",
    "    return str(n) == str(n)[::-1]\n",
    "\n",
    "def check_number():\n",
    "    num = int(input(\"Enter a number: \"))\n",
    "\n",
    "    print(f\"\\nResults for {num}:\")\n",
    "    print(f\"Prime: {'Yes' if is_prime(num) else 'No'}\")\n",
    "    print(f\"Armstrong: {'Yes' if is_armstrong(num) else 'No'}\")\n",
    "    print(f\"Palindrome: {'Yes' if is_palindrome(num) else 'No'}\")\n",
    "\n",
    "if __name__ == \"__main__\":\n",
    "    check_number()\n"
   ]
  },
  {
   "cell_type": "code",
   "execution_count": null,
   "id": "b18f7db9-db68-4b8b-8d47-60b0a9acd77a",
   "metadata": {},
   "outputs": [],
   "source": []
  },
  {
   "cell_type": "code",
   "execution_count": null,
   "id": "aeef426b-1cf0-48b9-a54d-b6287018d6a9",
   "metadata": {},
   "outputs": [],
   "source": [
    "4. The Fibonacci Sequence\n",
    "Task: Generate the Fibonacci Sequence.\n",
    "Objective: To create a Python program that generates the first n terms of the Fibonacci sequence based on user input.\n",
    "Acceptance Criteria:\n",
    "•\tThe program accepts a positive integer input (n) from the user.\n",
    "•\tIt generates and displays the first n terms of the Fibonacci sequence.\n",
    "•\tThe Fibonacci sequence is calculated iteratively.\n",
    "•\tIf the input is zero or negative, an appropriate error message is displayed.\n",
    "•\tNon-integer input is handled gracefully with an error message."
   ]
  },
  {
   "cell_type": "code",
   "execution_count": 1,
   "id": "e1079879-9b11-438a-b0e5-9e8620e147ab",
   "metadata": {},
   "outputs": [
    {
     "name": "stdin",
     "output_type": "stream",
     "text": [
      "Enter the number of terms:  1\n"
     ]
    },
    {
     "name": "stdout",
     "output_type": "stream",
     "text": [
      "The first 1 terms of the Fibonacci sequence are:\n",
      "[0]\n"
     ]
    }
   ],
   "source": [
    "def fibonacci(n):\n",
    "    \"\"\"Generate the first n terms of the Fibonacci sequence\"\"\"\n",
    "    fib_sequence = [0, 1]\n",
    "    while len(fib_sequence) < n:\n",
    "        fib_sequence.append(fib_sequence[-1] + fib_sequence[-2])\n",
    "    return fib_sequence[:n]\n",
    "\n",
    "def main():\n",
    "    n = int(input(\"Enter the number of terms: \"))\n",
    "    if n <= 0:\n",
    "        print(\"Please enter a positive integer.\")\n",
    "    else:\n",
    "        fib_sequence = fibonacci(n)\n",
    "        print(f\"The first {n} terms of the Fibonacci sequence are:\")\n",
    "        print(fib_sequence)\n",
    "\n",
    "if __name__ == \"__main__\":\n",
    "    main()\n"
   ]
  },
  {
   "cell_type": "code",
   "execution_count": 2,
   "id": "986f00e8-e4cf-407f-a6bd-8b61550bfd39",
   "metadata": {},
   "outputs": [
    {
     "data": {
      "text/plain": [
       "[0, 1, 1, 2, 3, 5, 8, 13, 21, 34]"
      ]
     },
     "execution_count": 2,
     "metadata": {},
     "output_type": "execute_result"
    }
   ],
   "source": [
    "#Enter the number of terms: 10\n",
    "#The first 10 terms of the Fibonacci sequence are:\n",
    "[0, 1, 1, 2, 3, 5, 8, 13, 21, 34]"
   ]
  },
  {
   "cell_type": "code",
   "execution_count": null,
   "id": "4aa3d83c-1728-45f7-95b6-ba1de43edeab",
   "metadata": {},
   "outputs": [],
   "source": []
  }
 ],
 "metadata": {
  "kernelspec": {
   "display_name": "Python 3 (ipykernel)",
   "language": "python",
   "name": "python3"
  },
  "language_info": {
   "codemirror_mode": {
    "name": "ipython",
    "version": 3
   },
   "file_extension": ".py",
   "mimetype": "text/x-python",
   "name": "python",
   "nbconvert_exporter": "python",
   "pygments_lexer": "ipython3",
   "version": "3.12.4"
  }
 },
 "nbformat": 4,
 "nbformat_minor": 5
}
